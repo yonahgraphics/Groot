{
 "cells": [
  {
   "cell_type": "markdown",
   "metadata": {},
   "source": [
    "## 1. Install Required Libraries and Tools"
   ]
  },
  {
   "cell_type": "code",
   "execution_count": 19,
   "metadata": {},
   "outputs": [
    {
     "name": "stdout",
     "output_type": "stream",
     "text": [
      "Requirement already satisfied: ollama in /Users/yonah/anaconda3/envs/torchNN/lib/python3.11/site-packages (0.3.2)\n",
      "Requirement already satisfied: langchain in /Users/yonah/anaconda3/envs/torchNN/lib/python3.11/site-packages (0.2.16)\n",
      "Requirement already satisfied: chromadb in /Users/yonah/anaconda3/envs/torchNN/lib/python3.11/site-packages (0.5.5)\n",
      "Requirement already satisfied: gradio in /Users/yonah/anaconda3/envs/torchNN/lib/python3.11/site-packages (4.42.0)\n",
      "Requirement already satisfied: discord.py in /Users/yonah/anaconda3/envs/torchNN/lib/python3.11/site-packages (2.4.0)\n",
      "Requirement already satisfied: PyPDF2 in /Users/yonah/anaconda3/envs/torchNN/lib/python3.11/site-packages (3.0.1)\n",
      "Requirement already satisfied: langchain_community in /Users/yonah/anaconda3/envs/torchNN/lib/python3.11/site-packages (0.2.16)\n",
      "Requirement already satisfied: httpx<0.28.0,>=0.27.0 in /Users/yonah/anaconda3/envs/torchNN/lib/python3.11/site-packages (from ollama) (0.27.0)\n",
      "Requirement already satisfied: PyYAML>=5.3 in /Users/yonah/anaconda3/envs/torchNN/lib/python3.11/site-packages (from langchain) (6.0.1)\n",
      "Requirement already satisfied: SQLAlchemy<3,>=1.4 in /Users/yonah/anaconda3/envs/torchNN/lib/python3.11/site-packages (from langchain) (2.0.34)\n",
      "Requirement already satisfied: aiohttp<4.0.0,>=3.8.3 in /Users/yonah/anaconda3/envs/torchNN/lib/python3.11/site-packages (from langchain) (3.10.5)\n",
      "Requirement already satisfied: langchain-core<0.3.0,>=0.2.38 in /Users/yonah/anaconda3/envs/torchNN/lib/python3.11/site-packages (from langchain) (0.2.38)\n",
      "Requirement already satisfied: langchain-text-splitters<0.3.0,>=0.2.0 in /Users/yonah/anaconda3/envs/torchNN/lib/python3.11/site-packages (from langchain) (0.2.4)\n",
      "Requirement already satisfied: langsmith<0.2.0,>=0.1.17 in /Users/yonah/anaconda3/envs/torchNN/lib/python3.11/site-packages (from langchain) (0.1.112)\n",
      "Requirement already satisfied: numpy<2,>=1 in /Users/yonah/anaconda3/envs/torchNN/lib/python3.11/site-packages (from langchain) (1.26.4)\n",
      "Requirement already satisfied: pydantic<3,>=1 in /Users/yonah/anaconda3/envs/torchNN/lib/python3.11/site-packages (from langchain) (2.7.1)\n",
      "Requirement already satisfied: requests<3,>=2 in /Users/yonah/anaconda3/envs/torchNN/lib/python3.11/site-packages (from langchain) (2.31.0)\n",
      "Requirement already satisfied: tenacity!=8.4.0,<9.0.0,>=8.1.0 in /Users/yonah/anaconda3/envs/torchNN/lib/python3.11/site-packages (from langchain) (8.5.0)\n",
      "Requirement already satisfied: build>=1.0.3 in /Users/yonah/anaconda3/envs/torchNN/lib/python3.11/site-packages (from chromadb) (1.2.1)\n",
      "Requirement already satisfied: chroma-hnswlib==0.7.6 in /Users/yonah/anaconda3/envs/torchNN/lib/python3.11/site-packages (from chromadb) (0.7.6)\n",
      "Requirement already satisfied: fastapi>=0.95.2 in /Users/yonah/anaconda3/envs/torchNN/lib/python3.11/site-packages (from chromadb) (0.112.2)\n",
      "Requirement already satisfied: uvicorn>=0.18.3 in /Users/yonah/anaconda3/envs/torchNN/lib/python3.11/site-packages (from uvicorn[standard]>=0.18.3->chromadb) (0.30.6)\n",
      "Requirement already satisfied: posthog>=2.4.0 in /Users/yonah/anaconda3/envs/torchNN/lib/python3.11/site-packages (from chromadb) (3.6.3)\n",
      "Requirement already satisfied: typing-extensions>=4.5.0 in /Users/yonah/anaconda3/envs/torchNN/lib/python3.11/site-packages (from chromadb) (4.12.2)\n",
      "Requirement already satisfied: onnxruntime>=1.14.1 in /Users/yonah/anaconda3/envs/torchNN/lib/python3.11/site-packages (from chromadb) (1.19.2)\n",
      "Requirement already satisfied: opentelemetry-api>=1.2.0 in /Users/yonah/anaconda3/envs/torchNN/lib/python3.11/site-packages (from chromadb) (1.27.0)\n",
      "Requirement already satisfied: opentelemetry-exporter-otlp-proto-grpc>=1.2.0 in /Users/yonah/anaconda3/envs/torchNN/lib/python3.11/site-packages (from chromadb) (1.27.0)\n",
      "Requirement already satisfied: opentelemetry-instrumentation-fastapi>=0.41b0 in /Users/yonah/anaconda3/envs/torchNN/lib/python3.11/site-packages (from chromadb) (0.48b0)\n",
      "Requirement already satisfied: opentelemetry-sdk>=1.2.0 in /Users/yonah/anaconda3/envs/torchNN/lib/python3.11/site-packages (from chromadb) (1.27.0)\n",
      "Requirement already satisfied: tokenizers>=0.13.2 in /Users/yonah/anaconda3/envs/torchNN/lib/python3.11/site-packages (from chromadb) (0.15.2)\n",
      "Requirement already satisfied: pypika>=0.48.9 in /Users/yonah/anaconda3/envs/torchNN/lib/python3.11/site-packages (from chromadb) (0.48.9)\n",
      "Requirement already satisfied: tqdm>=4.65.0 in /Users/yonah/anaconda3/envs/torchNN/lib/python3.11/site-packages (from chromadb) (4.66.1)\n",
      "Requirement already satisfied: overrides>=7.3.1 in /Users/yonah/anaconda3/envs/torchNN/lib/python3.11/site-packages (from chromadb) (7.4.0)\n",
      "Requirement already satisfied: importlib-resources in /Users/yonah/anaconda3/envs/torchNN/lib/python3.11/site-packages (from chromadb) (6.4.4)\n",
      "Requirement already satisfied: grpcio>=1.58.0 in /Users/yonah/anaconda3/envs/torchNN/lib/python3.11/site-packages (from chromadb) (1.66.1)\n",
      "Requirement already satisfied: bcrypt>=4.0.1 in /Users/yonah/anaconda3/envs/torchNN/lib/python3.11/site-packages (from chromadb) (4.2.0)\n",
      "Requirement already satisfied: typer>=0.9.0 in /Users/yonah/anaconda3/envs/torchNN/lib/python3.11/site-packages (from chromadb) (0.12.5)\n",
      "Requirement already satisfied: kubernetes>=28.1.0 in /Users/yonah/anaconda3/envs/torchNN/lib/python3.11/site-packages (from chromadb) (30.1.0)\n",
      "Requirement already satisfied: mmh3>=4.0.1 in /Users/yonah/anaconda3/envs/torchNN/lib/python3.11/site-packages (from chromadb) (4.1.0)\n",
      "Requirement already satisfied: orjson>=3.9.12 in /Users/yonah/anaconda3/envs/torchNN/lib/python3.11/site-packages (from chromadb) (3.10.7)\n",
      "Requirement already satisfied: aiofiles<24.0,>=22.0 in /Users/yonah/anaconda3/envs/torchNN/lib/python3.11/site-packages (from gradio) (23.2.1)\n",
      "Requirement already satisfied: anyio<5.0,>=3.0 in /Users/yonah/anaconda3/envs/torchNN/lib/python3.11/site-packages (from gradio) (4.2.0)\n",
      "Requirement already satisfied: ffmpy in /Users/yonah/anaconda3/envs/torchNN/lib/python3.11/site-packages (from gradio) (0.4.0)\n",
      "Requirement already satisfied: gradio-client==1.3.0 in /Users/yonah/anaconda3/envs/torchNN/lib/python3.11/site-packages (from gradio) (1.3.0)\n",
      "Requirement already satisfied: huggingface-hub>=0.19.3 in /Users/yonah/anaconda3/envs/torchNN/lib/python3.11/site-packages (from gradio) (0.20.1)\n",
      "Requirement already satisfied: jinja2<4.0 in /Users/yonah/anaconda3/envs/torchNN/lib/python3.11/site-packages (from gradio) (3.1.2)\n",
      "Requirement already satisfied: markupsafe~=2.0 in /Users/yonah/anaconda3/envs/torchNN/lib/python3.11/site-packages (from gradio) (2.1.1)\n",
      "Requirement already satisfied: matplotlib~=3.0 in /Users/yonah/anaconda3/envs/torchNN/lib/python3.11/site-packages (from gradio) (3.9.1)\n",
      "Requirement already satisfied: packaging in /Users/yonah/anaconda3/envs/torchNN/lib/python3.11/site-packages (from gradio) (23.2)\n",
      "Requirement already satisfied: pandas<3.0,>=1.0 in /Users/yonah/anaconda3/envs/torchNN/lib/python3.11/site-packages (from gradio) (2.2.2)\n",
      "Requirement already satisfied: pillow<11.0,>=8.0 in /Users/yonah/anaconda3/envs/torchNN/lib/python3.11/site-packages (from gradio) (10.0.1)\n",
      "Requirement already satisfied: pydub in /Users/yonah/anaconda3/envs/torchNN/lib/python3.11/site-packages (from gradio) (0.25.1)\n",
      "Requirement already satisfied: python-multipart>=0.0.9 in /Users/yonah/anaconda3/envs/torchNN/lib/python3.11/site-packages (from gradio) (0.0.9)\n",
      "Requirement already satisfied: ruff>=0.2.2 in /Users/yonah/anaconda3/envs/torchNN/lib/python3.11/site-packages (from gradio) (0.6.3)\n",
      "Requirement already satisfied: semantic-version~=2.0 in /Users/yonah/anaconda3/envs/torchNN/lib/python3.11/site-packages (from gradio) (2.10.0)\n",
      "Requirement already satisfied: tomlkit==0.12.0 in /Users/yonah/anaconda3/envs/torchNN/lib/python3.11/site-packages (from gradio) (0.12.0)\n",
      "Requirement already satisfied: urllib3~=2.0 in /Users/yonah/anaconda3/envs/torchNN/lib/python3.11/site-packages (from gradio) (2.2.2)\n",
      "Requirement already satisfied: fsspec in /Users/yonah/anaconda3/envs/torchNN/lib/python3.11/site-packages (from gradio-client==1.3.0->gradio) (2023.12.2)\n",
      "Requirement already satisfied: websockets<13.0,>=10.0 in /Users/yonah/anaconda3/envs/torchNN/lib/python3.11/site-packages (from gradio-client==1.3.0->gradio) (12.0)\n",
      "Requirement already satisfied: dataclasses-json<0.7,>=0.5.7 in /Users/yonah/anaconda3/envs/torchNN/lib/python3.11/site-packages (from langchain_community) (0.6.7)\n",
      "Requirement already satisfied: aiohappyeyeballs>=2.3.0 in /Users/yonah/anaconda3/envs/torchNN/lib/python3.11/site-packages (from aiohttp<4.0.0,>=3.8.3->langchain) (2.4.0)\n",
      "Requirement already satisfied: aiosignal>=1.1.2 in /Users/yonah/anaconda3/envs/torchNN/lib/python3.11/site-packages (from aiohttp<4.0.0,>=3.8.3->langchain) (1.3.1)\n",
      "Requirement already satisfied: attrs>=17.3.0 in /Users/yonah/anaconda3/envs/torchNN/lib/python3.11/site-packages (from aiohttp<4.0.0,>=3.8.3->langchain) (23.1.0)\n",
      "Requirement already satisfied: frozenlist>=1.1.1 in /Users/yonah/anaconda3/envs/torchNN/lib/python3.11/site-packages (from aiohttp<4.0.0,>=3.8.3->langchain) (1.4.1)\n",
      "Requirement already satisfied: multidict<7.0,>=4.5 in /Users/yonah/anaconda3/envs/torchNN/lib/python3.11/site-packages (from aiohttp<4.0.0,>=3.8.3->langchain) (6.0.5)\n",
      "Requirement already satisfied: yarl<2.0,>=1.0 in /Users/yonah/anaconda3/envs/torchNN/lib/python3.11/site-packages (from aiohttp<4.0.0,>=3.8.3->langchain) (1.9.8)\n",
      "Requirement already satisfied: idna>=2.8 in /Users/yonah/anaconda3/envs/torchNN/lib/python3.11/site-packages (from anyio<5.0,>=3.0->gradio) (3.4)\n",
      "Requirement already satisfied: sniffio>=1.1 in /Users/yonah/anaconda3/envs/torchNN/lib/python3.11/site-packages (from anyio<5.0,>=3.0->gradio) (1.3.0)\n",
      "Requirement already satisfied: pyproject_hooks in /Users/yonah/anaconda3/envs/torchNN/lib/python3.11/site-packages (from build>=1.0.3->chromadb) (1.1.0)\n",
      "Requirement already satisfied: marshmallow<4.0.0,>=3.18.0 in /Users/yonah/anaconda3/envs/torchNN/lib/python3.11/site-packages (from dataclasses-json<0.7,>=0.5.7->langchain_community) (3.21.3)\n",
      "Requirement already satisfied: typing-inspect<1,>=0.4.0 in /Users/yonah/anaconda3/envs/torchNN/lib/python3.11/site-packages (from dataclasses-json<0.7,>=0.5.7->langchain_community) (0.9.0)\n",
      "Requirement already satisfied: starlette<0.39.0,>=0.37.2 in /Users/yonah/anaconda3/envs/torchNN/lib/python3.11/site-packages (from fastapi>=0.95.2->chromadb) (0.38.4)\n",
      "Requirement already satisfied: certifi in /Users/yonah/anaconda3/envs/torchNN/lib/python3.11/site-packages (from httpx<0.28.0,>=0.27.0->ollama) (2024.2.2)\n",
      "Requirement already satisfied: httpcore==1.* in /Users/yonah/anaconda3/envs/torchNN/lib/python3.11/site-packages (from httpx<0.28.0,>=0.27.0->ollama) (1.0.5)\n",
      "Requirement already satisfied: h11<0.15,>=0.13 in /Users/yonah/anaconda3/envs/torchNN/lib/python3.11/site-packages (from httpcore==1.*->httpx<0.28.0,>=0.27.0->ollama) (0.14.0)\n",
      "Requirement already satisfied: filelock in /Users/yonah/anaconda3/envs/torchNN/lib/python3.11/site-packages (from huggingface-hub>=0.19.3->gradio) (3.13.1)\n",
      "Requirement already satisfied: six>=1.9.0 in /Users/yonah/anaconda3/envs/torchNN/lib/python3.11/site-packages (from kubernetes>=28.1.0->chromadb) (1.16.0)\n",
      "Requirement already satisfied: python-dateutil>=2.5.3 in /Users/yonah/anaconda3/envs/torchNN/lib/python3.11/site-packages (from kubernetes>=28.1.0->chromadb) (2.8.2)\n",
      "Requirement already satisfied: google-auth>=1.0.1 in /Users/yonah/anaconda3/envs/torchNN/lib/python3.11/site-packages (from kubernetes>=28.1.0->chromadb) (2.34.0)\n",
      "Requirement already satisfied: websocket-client!=0.40.0,!=0.41.*,!=0.42.*,>=0.32.0 in /Users/yonah/anaconda3/envs/torchNN/lib/python3.11/site-packages (from kubernetes>=28.1.0->chromadb) (0.58.0)\n",
      "Requirement already satisfied: requests-oauthlib in /Users/yonah/anaconda3/envs/torchNN/lib/python3.11/site-packages (from kubernetes>=28.1.0->chromadb) (2.0.0)\n",
      "Requirement already satisfied: oauthlib>=3.2.2 in /Users/yonah/anaconda3/envs/torchNN/lib/python3.11/site-packages (from kubernetes>=28.1.0->chromadb) (3.2.2)\n",
      "Requirement already satisfied: jsonpatch<2.0,>=1.33 in /Users/yonah/anaconda3/envs/torchNN/lib/python3.11/site-packages (from langchain-core<0.3.0,>=0.2.38->langchain) (1.33)\n",
      "Requirement already satisfied: contourpy>=1.0.1 in /Users/yonah/anaconda3/envs/torchNN/lib/python3.11/site-packages (from matplotlib~=3.0->gradio) (1.2.0)\n",
      "Requirement already satisfied: cycler>=0.10 in /Users/yonah/anaconda3/envs/torchNN/lib/python3.11/site-packages (from matplotlib~=3.0->gradio) (0.12.1)\n",
      "Requirement already satisfied: fonttools>=4.22.0 in /Users/yonah/anaconda3/envs/torchNN/lib/python3.11/site-packages (from matplotlib~=3.0->gradio) (4.47.0)\n",
      "Requirement already satisfied: kiwisolver>=1.3.1 in /Users/yonah/anaconda3/envs/torchNN/lib/python3.11/site-packages (from matplotlib~=3.0->gradio) (1.4.5)\n",
      "Requirement already satisfied: pyparsing>=2.3.1 in /Users/yonah/anaconda3/envs/torchNN/lib/python3.11/site-packages (from matplotlib~=3.0->gradio) (3.1.1)\n",
      "Requirement already satisfied: coloredlogs in /Users/yonah/anaconda3/envs/torchNN/lib/python3.11/site-packages (from onnxruntime>=1.14.1->chromadb) (15.0.1)\n",
      "Requirement already satisfied: flatbuffers in /Users/yonah/anaconda3/envs/torchNN/lib/python3.11/site-packages (from onnxruntime>=1.14.1->chromadb) (24.3.25)\n",
      "Requirement already satisfied: protobuf in /Users/yonah/anaconda3/envs/torchNN/lib/python3.11/site-packages (from onnxruntime>=1.14.1->chromadb) (4.25.4)\n",
      "Requirement already satisfied: sympy in /Users/yonah/anaconda3/envs/torchNN/lib/python3.11/site-packages (from onnxruntime>=1.14.1->chromadb) (1.12)\n",
      "Requirement already satisfied: deprecated>=1.2.6 in /Users/yonah/anaconda3/envs/torchNN/lib/python3.11/site-packages (from opentelemetry-api>=1.2.0->chromadb) (1.2.14)\n",
      "Requirement already satisfied: importlib-metadata<=8.4.0,>=6.0 in /Users/yonah/anaconda3/envs/torchNN/lib/python3.11/site-packages (from opentelemetry-api>=1.2.0->chromadb) (7.0.1)\n",
      "Requirement already satisfied: googleapis-common-protos~=1.52 in /Users/yonah/anaconda3/envs/torchNN/lib/python3.11/site-packages (from opentelemetry-exporter-otlp-proto-grpc>=1.2.0->chromadb) (1.65.0)\n",
      "Requirement already satisfied: opentelemetry-exporter-otlp-proto-common==1.27.0 in /Users/yonah/anaconda3/envs/torchNN/lib/python3.11/site-packages (from opentelemetry-exporter-otlp-proto-grpc>=1.2.0->chromadb) (1.27.0)\n",
      "Requirement already satisfied: opentelemetry-proto==1.27.0 in /Users/yonah/anaconda3/envs/torchNN/lib/python3.11/site-packages (from opentelemetry-exporter-otlp-proto-grpc>=1.2.0->chromadb) (1.27.0)\n",
      "Requirement already satisfied: opentelemetry-instrumentation-asgi==0.48b0 in /Users/yonah/anaconda3/envs/torchNN/lib/python3.11/site-packages (from opentelemetry-instrumentation-fastapi>=0.41b0->chromadb) (0.48b0)\n",
      "Requirement already satisfied: opentelemetry-instrumentation==0.48b0 in /Users/yonah/anaconda3/envs/torchNN/lib/python3.11/site-packages (from opentelemetry-instrumentation-fastapi>=0.41b0->chromadb) (0.48b0)\n",
      "Requirement already satisfied: opentelemetry-semantic-conventions==0.48b0 in /Users/yonah/anaconda3/envs/torchNN/lib/python3.11/site-packages (from opentelemetry-instrumentation-fastapi>=0.41b0->chromadb) (0.48b0)\n",
      "Requirement already satisfied: opentelemetry-util-http==0.48b0 in /Users/yonah/anaconda3/envs/torchNN/lib/python3.11/site-packages (from opentelemetry-instrumentation-fastapi>=0.41b0->chromadb) (0.48b0)\n",
      "Requirement already satisfied: setuptools>=16.0 in /Users/yonah/anaconda3/envs/torchNN/lib/python3.11/site-packages (from opentelemetry-instrumentation==0.48b0->opentelemetry-instrumentation-fastapi>=0.41b0->chromadb) (68.2.2)\n",
      "Requirement already satisfied: wrapt<2.0.0,>=1.0.0 in /Users/yonah/anaconda3/envs/torchNN/lib/python3.11/site-packages (from opentelemetry-instrumentation==0.48b0->opentelemetry-instrumentation-fastapi>=0.41b0->chromadb) (1.16.0)\n",
      "Requirement already satisfied: asgiref~=3.0 in /Users/yonah/anaconda3/envs/torchNN/lib/python3.11/site-packages (from opentelemetry-instrumentation-asgi==0.48b0->opentelemetry-instrumentation-fastapi>=0.41b0->chromadb) (3.8.1)\n",
      "Requirement already satisfied: pytz>=2020.1 in /Users/yonah/anaconda3/envs/torchNN/lib/python3.11/site-packages (from pandas<3.0,>=1.0->gradio) (2023.3.post1)\n",
      "Requirement already satisfied: tzdata>=2022.7 in /Users/yonah/anaconda3/envs/torchNN/lib/python3.11/site-packages (from pandas<3.0,>=1.0->gradio) (2023.3)\n",
      "Requirement already satisfied: monotonic>=1.5 in /Users/yonah/anaconda3/envs/torchNN/lib/python3.11/site-packages (from posthog>=2.4.0->chromadb) (1.6)\n",
      "Requirement already satisfied: backoff>=1.10.0 in /Users/yonah/anaconda3/envs/torchNN/lib/python3.11/site-packages (from posthog>=2.4.0->chromadb) (2.2.1)\n",
      "Requirement already satisfied: annotated-types>=0.4.0 in /Users/yonah/anaconda3/envs/torchNN/lib/python3.11/site-packages (from pydantic<3,>=1->langchain) (0.6.0)\n",
      "Requirement already satisfied: pydantic-core==2.18.2 in /Users/yonah/anaconda3/envs/torchNN/lib/python3.11/site-packages (from pydantic<3,>=1->langchain) (2.18.2)\n",
      "Requirement already satisfied: charset-normalizer<4,>=2 in /Users/yonah/anaconda3/envs/torchNN/lib/python3.11/site-packages (from requests<3,>=2->langchain) (2.0.4)\n",
      "Requirement already satisfied: click>=8.0.0 in /Users/yonah/anaconda3/envs/torchNN/lib/python3.11/site-packages (from typer>=0.9.0->chromadb) (8.1.7)\n",
      "Requirement already satisfied: shellingham>=1.3.0 in /Users/yonah/anaconda3/envs/torchNN/lib/python3.11/site-packages (from typer>=0.9.0->chromadb) (1.5.4)\n",
      "Requirement already satisfied: rich>=10.11.0 in /Users/yonah/anaconda3/envs/torchNN/lib/python3.11/site-packages (from typer>=0.9.0->chromadb) (13.7.1)\n",
      "Requirement already satisfied: httptools>=0.5.0 in /Users/yonah/anaconda3/envs/torchNN/lib/python3.11/site-packages (from uvicorn[standard]>=0.18.3->chromadb) (0.6.1)\n",
      "Requirement already satisfied: python-dotenv>=0.13 in /Users/yonah/anaconda3/envs/torchNN/lib/python3.11/site-packages (from uvicorn[standard]>=0.18.3->chromadb) (1.0.1)\n",
      "Requirement already satisfied: uvloop!=0.15.0,!=0.15.1,>=0.14.0 in /Users/yonah/anaconda3/envs/torchNN/lib/python3.11/site-packages (from uvicorn[standard]>=0.18.3->chromadb) (0.19.0)\n",
      "Requirement already satisfied: watchfiles>=0.13 in /Users/yonah/anaconda3/envs/torchNN/lib/python3.11/site-packages (from uvicorn[standard]>=0.18.3->chromadb) (0.24.0)\n",
      "Requirement already satisfied: cachetools<6.0,>=2.0.0 in /Users/yonah/anaconda3/envs/torchNN/lib/python3.11/site-packages (from google-auth>=1.0.1->kubernetes>=28.1.0->chromadb) (5.4.0)\n",
      "Requirement already satisfied: pyasn1-modules>=0.2.1 in /Users/yonah/anaconda3/envs/torchNN/lib/python3.11/site-packages (from google-auth>=1.0.1->kubernetes>=28.1.0->chromadb) (0.4.0)\n",
      "Requirement already satisfied: rsa<5,>=3.1.4 in /Users/yonah/anaconda3/envs/torchNN/lib/python3.11/site-packages (from google-auth>=1.0.1->kubernetes>=28.1.0->chromadb) (4.9)\n",
      "Requirement already satisfied: zipp>=0.5 in /Users/yonah/anaconda3/envs/torchNN/lib/python3.11/site-packages (from importlib-metadata<=8.4.0,>=6.0->opentelemetry-api>=1.2.0->chromadb) (3.17.0)\n",
      "Requirement already satisfied: jsonpointer>=1.9 in /Users/yonah/anaconda3/envs/torchNN/lib/python3.11/site-packages (from jsonpatch<2.0,>=1.33->langchain-core<0.3.0,>=0.2.38->langchain) (3.0.0)\n",
      "Requirement already satisfied: markdown-it-py>=2.2.0 in /Users/yonah/anaconda3/envs/torchNN/lib/python3.11/site-packages (from rich>=10.11.0->typer>=0.9.0->chromadb) (3.0.0)\n",
      "Requirement already satisfied: pygments<3.0.0,>=2.13.0 in /Users/yonah/anaconda3/envs/torchNN/lib/python3.11/site-packages (from rich>=10.11.0->typer>=0.9.0->chromadb) (2.17.2)\n",
      "Requirement already satisfied: mypy-extensions>=0.3.0 in /Users/yonah/anaconda3/envs/torchNN/lib/python3.11/site-packages (from typing-inspect<1,>=0.4.0->dataclasses-json<0.7,>=0.5.7->langchain_community) (1.0.0)\n",
      "Requirement already satisfied: humanfriendly>=9.1 in /Users/yonah/anaconda3/envs/torchNN/lib/python3.11/site-packages (from coloredlogs->onnxruntime>=1.14.1->chromadb) (10.0)\n",
      "Requirement already satisfied: mpmath>=0.19 in /Users/yonah/anaconda3/envs/torchNN/lib/python3.11/site-packages (from sympy->onnxruntime>=1.14.1->chromadb) (1.3.0)\n",
      "Requirement already satisfied: mdurl~=0.1 in /Users/yonah/anaconda3/envs/torchNN/lib/python3.11/site-packages (from markdown-it-py>=2.2.0->rich>=10.11.0->typer>=0.9.0->chromadb) (0.1.2)\n",
      "Requirement already satisfied: pyasn1<0.7.0,>=0.4.6 in /Users/yonah/anaconda3/envs/torchNN/lib/python3.11/site-packages (from pyasn1-modules>=0.2.1->google-auth>=1.0.1->kubernetes>=28.1.0->chromadb) (0.6.0)\n"
     ]
    }
   ],
   "source": [
    "!pip install ollama langchain chromadb gradio discord.py PyPDF2 langchain_community gradio"
   ]
  },
  {
   "cell_type": "code",
   "execution_count": 20,
   "metadata": {},
   "outputs": [],
   "source": [
    "# import packages\n",
    "import os \n",
    "import PyPDF2\n",
    "from langchain.text_splitter import RecursiveCharacterTextSplitter\n",
    "import ollama"
   ]
  },
  {
   "cell_type": "markdown",
   "metadata": {},
   "source": [
    "## 2. Set Up Ollama and Download LLaMA 3 Mode"
   ]
  },
  {
   "cell_type": "code",
   "execution_count": 21,
   "metadata": {},
   "outputs": [],
   "source": [
    "# Download the LLaMA 3.1 model (8B parameters)\n",
    "# RUn this command in the terminal\n",
    "# ollama pull llama3.1\n",
    "\n",
    "\n",
    "# Download the text embedding model\n",
    "# ollama pull nomic-embed-text"
   ]
  },
  {
   "cell_type": "markdown",
   "metadata": {},
   "source": [
    "## 3. Load and Split Data from PDF Documents"
   ]
  },
  {
   "cell_type": "code",
   "execution_count": 22,
   "metadata": {},
   "outputs": [],
   "source": [
    "# Function to read PDF documents\n",
    "def load_pdf_text(pdf_path):\n",
    "    pdf_reader = PyPDF2.PdfReader(pdf_path)\n",
    "    text = \"\"\n",
    "    for page in pdf_reader.pages:\n",
    "        text += page.extract_text()\n",
    "    return text\n",
    "\n",
    "\n",
    "# Specify the directory containing the PDF files\n",
    "pdf_directory = \"./input_data\"\n",
    "\n",
    "# Get a list of all PDF files in the directory\n",
    "pdf_paths = [os.path.join(pdf_directory, file) for file in os.listdir(pdf_directory) if file.endswith('.pdf')]\n",
    "\n",
    "\n",
    "# Extract the text\n",
    "docs = [load_pdf_text(pdf) for pdf in pdf_paths]\n",
    "\n",
    "# Combine all text into a single document\n",
    "combined_text = \"\\n\".join(docs)\n",
    "\n",
    "\n",
    "# Split the combined text into chunks for better retrieval\n",
    "text_splitter = RecursiveCharacterTextSplitter(chunk_size=1000, chunk_overlap=200)\n",
    "splits = text_splitter.split_text(combined_text)"
   ]
  },
  {
   "cell_type": "markdown",
   "metadata": {},
   "source": [
    "## 4. Create Embeddings and Vector Store"
   ]
  },
  {
   "cell_type": "code",
   "execution_count": 23,
   "metadata": {},
   "outputs": [],
   "source": [
    "# from langchain.vectorstores import Chroma\n",
    "# from langchain.embeddings import OllamaEmbeddings\n",
    "\n",
    "from langchain_community.vectorstores import Chroma\n",
    "from langchain_community.embeddings import OllamaEmbeddings\n",
    "\n",
    "# Create Ollama embeddings\n",
    "embeddings = OllamaEmbeddings(model=\"llama3.1\")\n",
    "\n",
    "# Create a vector store from the documents and embeddings\n",
    "vectorstore = Chroma.from_texts(texts=splits, embedding=embeddings)"
   ]
  },
  {
   "cell_type": "markdown",
   "metadata": {},
   "source": [
    "## 5. Define Functions for Retrieval-Augmented Generation (RAG)"
   ]
  },
  {
   "cell_type": "code",
   "execution_count": 27,
   "metadata": {},
   "outputs": [
    {
     "name": "stdout",
     "output_type": "stream",
     "text": [
      "Based on the context, it appears that there is no SQL query being asked.\n",
      "\n",
      "However, I can tell you that \"What us SQL in full?\" is a question asking for the full form of Structured Query Language. \n",
      "\n",
      "The answer is: **S**tructured **Q**uery **L**anguage.\n"
     ]
    }
   ],
   "source": [
    "# Function to interact with the LLaMA 3 model using Ollama\n",
    "def ollama_llm(question, context):\n",
    "    formatted_prompt = f\"Question: {question}\\n\\nContext: {context}\"\n",
    "    response = ollama.chat(model='llama3.1', messages=[\n",
    "        {'role': 'system', 'content': 'You are a helpful ai assistant that answers SQL queries'},\n",
    "        {'role': 'user', 'content': 'What is SQL in full?'},\n",
    "        {'role': 'assistant', 'content': ' Structured Query Language'},\n",
    "        {'role': 'user', 'content': formatted_prompt}\n",
    "        ])\n",
    "    return response['message']['content']\n",
    "\n",
    "# Convert retrieved documents into a single formatted context string\n",
    "def combine_docs(docs):\n",
    "    return \"\\n\\n\".join(doc.page_content for doc in docs)\n",
    "\n",
    "# RAG chain to get answers\n",
    "def rag_chain(question):\n",
    "    # Retrieve relevant documents\n",
    "    retriever = vectorstore.as_retriever()\n",
    "    retrieved_docs = retriever.invoke(question)\n",
    "    \n",
    "    # Combine retrieved documents into context\n",
    "    formatted_context = combine_docs(retrieved_docs)\n",
    "    \n",
    "    # Generate answer using LLaMA 3 model\n",
    "    return ollama_llm(question, formatted_context)\n",
    "\n",
    "# Test the RAG setup\n",
    "result = rag_chain(\"What SQL\")\n",
    "print(result)"
   ]
  },
  {
   "cell_type": "markdown",
   "metadata": {},
   "source": [
    "## Optional:  Build a chatbot UI"
   ]
  },
  {
   "cell_type": "code",
   "execution_count": 7,
   "metadata": {},
   "outputs": [
    {
     "name": "stderr",
     "output_type": "stream",
     "text": [
      "/Users/yonah/anaconda3/envs/torchNN/lib/python3.11/site-packages/tqdm/auto.py:21: TqdmWarning: IProgress not found. Please update jupyter and ipywidgets. See https://ipywidgets.readthedocs.io/en/stable/user_install.html\n",
      "  from .autonotebook import tqdm as notebook_tqdm\n"
     ]
    },
    {
     "name": "stdout",
     "output_type": "stream",
     "text": [
      "Running on local URL:  http://127.0.0.1:7860\n",
      "\n",
      "To create a public link, set `share=True` in `launch()`.\n"
     ]
    },
    {
     "data": {
      "text/html": [
       "<div><iframe src=\"http://127.0.0.1:7860/\" width=\"100%\" height=\"500\" allow=\"autoplay; camera; microphone; clipboard-read; clipboard-write;\" frameborder=\"0\" allowfullscreen></iframe></div>"
      ],
      "text/plain": [
       "<IPython.core.display.HTML object>"
      ]
     },
     "metadata": {},
     "output_type": "display_data"
    },
    {
     "data": {
      "text/plain": []
     },
     "execution_count": 7,
     "metadata": {},
     "output_type": "execute_result"
    }
   ],
   "source": [
    "import gradio as gr\n",
    "# Gradio interface\n",
    "iface = gr.Interface(\n",
    "    fn=rag_chain,\n",
    "    inputs=[\"text\"],\n",
    "    outputs=\"text\",\n",
    "    title=\"Harry Maguire Bot\",\n",
    "    description=\"A bot that answers questions about Harry Maguire as per his Wikipedia.\"\n",
    ")\n",
    "\n",
    "# Launch the app\n",
    "iface.launch()"
   ]
  },
  {
   "cell_type": "markdown",
   "metadata": {},
   "source": [
    "## Deploying the Discord Bot"
   ]
  },
  {
   "cell_type": "code",
   "execution_count": null,
   "metadata": {},
   "outputs": [],
   "source": [
    "# After deployment to AWS EC2, follow the following steps\n",
    "\n",
    "# # Run the Bot:\n",
    "# python3 your_bot_script.py\n",
    "\n",
    "\n",
    "# # Keep the Bot Running:\n",
    "# sudo apt install tmux -y\n",
    "# tmux new -s discordbot\n",
    "# python3 your_bot_script.py\n",
    "\n",
    "\n",
    "# # You can detach from the tmux session by pressing Ctrl + B, then D. To reattach, use:\n",
    "# tmux attach -t discordbot\n",
    "\n",
    "\n",
    "# # Create a Systemd Service File:\n",
    "# sudo nano /etc/systemd/system/discordbot.service\n",
    "\n",
    "\n",
    "# # Add the following content:\n",
    "# [Unit]\n",
    "# Description=Discord Bot\n",
    "\n",
    "# [Service]\n",
    "# WorkingDirectory=/home/ubuntu/yourbotrepo\n",
    "# ExecStart=/usr/bin/python3 /home/ubuntu/yourbotrepo/your_bot_script.py\n",
    "# Restart=always\n",
    "# User=ubuntu\n",
    "\n",
    "# [Install]\n",
    "# WantedBy=multi-user.target\n",
    "\n",
    "\n",
    "# # Enable and Start the Service:\n",
    "# sudo systemctl enable discordbot.service\n",
    "# sudo systemctl start discordbot.service\n"
   ]
  }
 ],
 "metadata": {
  "kernelspec": {
   "display_name": "torchNN",
   "language": "python",
   "name": "python3"
  },
  "language_info": {
   "codemirror_mode": {
    "name": "ipython",
    "version": 3
   },
   "file_extension": ".py",
   "mimetype": "text/x-python",
   "name": "python",
   "nbconvert_exporter": "python",
   "pygments_lexer": "ipython3",
   "version": "3.11.5"
  }
 },
 "nbformat": 4,
 "nbformat_minor": 2
}
